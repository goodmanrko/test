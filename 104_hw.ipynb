{
 "cells": [
  {
   "cell_type": "code",
   "execution_count": 4,
   "metadata": {
    "scrolled": false
   },
   "outputs": [
    {
     "name": "stdout",
     "output_type": "stream",
     "text": [
      "{'職缺名稱': 'foodpanda 年度品牌招募活動', '公司資訊': '德商foodpanda_富胖達股份有限公司', '薪資': '待遇面議', '網址': 'https://www.104.com.tw/job/74oo7?jobsource=hotjob_chr', '所需技能': [''], '工作經歷': '2年以上', '公司地址': '台北市信義區'}\n",
      "{'職缺名稱': '品牌行銷企劃-金融業（永寧走路3分鐘）須對金融有興趣', '公司資訊': '恆生金融科技股份有限公司', '薪資': '月薪30,000~45,000元', '網址': 'https://www.104.com.tw/job/6nuri?jobsource=hotjob_chr', '所需技能': [''], '工作經歷': '1年以上', '公司地址': '新北市土城區中央路三段32號6樓（永寧捷運站步行3分鐘）'}\n",
      "{'職缺名稱': '資深應用工程師 Senior Application Engineer', '公司資訊': '美商_國家儀器股份有限公司', '薪資': '待遇面議', '網址': 'https://www.104.com.tw/job/74cdz?jobsource=hotjob_chr', '所需技能': ['C', 'C#', 'C++', 'C++.Net', 'Java', 'Python', 'JavaScript', ''], '工作經歷': '5年以上', '公司地址': '新竹市敦化南路二段216號12樓'}\n",
      "{'職缺名稱': 'Sr. Embedded Software Engineer 資深嵌入式軟體工程師', '公司資訊': 'Tomofun_友愉股份有限公司', '薪資': '待遇面議', '網址': 'https://www.104.com.tw/job/6mezc?jobsource=hotjob_chr', '所需技能': [''], '工作經歷': '5年以上', '公司地址': '台北市松山區民權東路三段178號4樓'}\n",
      "{'職缺名稱': '【高雄】\"艾波廚房\"健康餐盒 正職廚房助理', '公司資訊': '貓頭鷹名宿經營顧問有限公司', '薪資': '月薪24,000~32,000元', '網址': 'https://www.104.com.tw/job/74gfw?jobsource=hotjob_chr', '所需技能': [''], '工作經歷': '不拘', '公司地址': '高雄市左營區南屏路250-1號'}\n",
      "{'職缺名稱': '熱情招募_全方位銷售達人(結合AI、大數據、互聯網、雲端科技的產品與服務平台)', '公司資訊': 'TutorABC_麥奇數位股份有限公司', '薪資': '月薪25,000~60,000元', '網址': 'https://www.104.com.tw/job/6cndt?jobsource=hotjob_chr', '所需技能': [''], '工作經歷': '不拘', '公司地址': '台中市南區忠明南路758號30樓(大安國際雙子星)'}\n",
      "{'職缺名稱': '【約聘】新餐廳夥伴開發/業務人員 (台南地區) - C48', '公司資訊': '德商foodpanda_富胖達股份有限公司', '薪資': '月薪25,000~45,000元', '網址': 'https://www.104.com.tw/job/749ba?jobsource=hotjob_chr', '所需技能': [''], '工作經歷': '1年以上', '公司地址': '台南市中西區忠義路二段180號'}\n",
      "{'職缺名稱': '數據分析師', '公司資訊': '雲康管理顧問有限公司', '薪資': '待遇面議', '網址': 'https://www.104.com.tw/job/74nl4?jobsource=hotjob_chr', '所需技能': ['Python', 'MS SQL', 'Tableau', 'SAS', 'SPSS', ''], '工作經歷': '1年以上', '公司地址': '台北市南港區忠孝東路六段467號'}\n",
      "{'職缺名稱': 'AI大數據分析師/主管', '公司資訊': '網際威信股份有限公司', '薪資': '年薪500,000~1,300,000元', '網址': 'https://www.104.com.tw/job/6nnhm?jobsource=jolist_a_relevance', '所需技能': [''], '工作經歷': '1年以上', '公司地址': '台北市內湖區港墘路200號7樓'}\n",
      "{'職缺名稱': '大數據資料處理工程師', '公司資訊': '台灣現觀股份有限公司', '薪資': '待遇面議', '網址': 'https://www.104.com.tw/job/70aaz?jobsource=jolist_a_relevance', '所需技能': ['Linux', 'Java', 'Python', 'JDBC', 'MySQL', 'ODBC', ''], '工作經歷': '不拘', '公司地址': '台北市中山區中山北路二段42號2樓'}\n",
      "{'職缺名稱': '大數據應用分析人員', '公司資訊': '台北富邦商業銀行股份有限公司', '薪資': '月薪45,000~80,000元', '網址': 'https://www.104.com.tw/job/57ywe?jobsource=jolist_a_relevance', '所需技能': [''], '工作經歷': '3年以上', '公司地址': '台北市大安區仁愛路四段169號22樓'}\n",
      "{'職缺名稱': '大數據研究中心研究員', '公司資訊': '大數據股份有限公司', '薪資': '月薪33,000~50,000元', '網址': 'https://www.104.com.tw/job/6v9d2?jobsource=jolist_a_relevance', '所需技能': [''], '工作經歷': '不拘', '公司地址': '台北市中山區民生東路二段145號5樓'}\n",
      "{'職缺名稱': 'Big Data Solution PO 大數據應用產品經理', '公司資訊': '91APP_九易宇軒股份有限公司', '薪資': '待遇面議', '網址': 'https://www.104.com.tw/job/660xg?jobsource=jolist_a_relevance', '所需技能': [''], '工作經歷': '不拘', '公司地址': '台北市南港區八德路四段768巷5號6樓'}\n",
      "{'職缺名稱': 'AI 大數據科學家', '公司資訊': '昱峰智能大數據科技股份有限公司', '薪資': '待遇面議', '網址': 'https://www.104.com.tw/job/5x0ln?jobsource=jolist_a_relevance', '所需技能': ['Linux', 'Github', 'Python', ''], '工作經歷': '不拘', '公司地址': '台北市信義區永吉路168號12樓之1'}\n",
      "{'職缺名稱': '大數據實施工程師', '公司資訊': '台北神策諮詢顧問有限公司', '薪資': '待遇面議', '網址': 'https://www.104.com.tw/job/6sw4i?jobsource=jolist_a_relevance', '所需技能': ['Linux', 'Java', 'ETL', 'MySQL', 'hadoop', 'Google Analytics', 'Google Tag Manager', ''], '工作經歷': '2年以上', '公司地址': '台北市中山區南京東路三段 170 號 1樓'}\n",
      "{'職缺名稱': '大數據運維工程師', '公司資訊': '雲智匯科技服務股份有限公司', '薪資': '月薪40,000~60,000元', '網址': 'https://www.104.com.tw/job/7457p?jobsource=jolist_a_relevance', '所需技能': ['Linux', 'Shell', 'Python', 'MS SQL', 'MySQL', 'Vmware', 'hadoop', 'DNS', 'Ethernet', 'Firewall', 'FTP', 'HTTP', 'TCP/IP', 'VLAN', 'VPN', 'Hive', ''], '工作經歷': '3年以上', '公司地址': '新北市土城區中山路3號'}\n",
      "{'職缺名稱': 'AI大數據架構師', '公司資訊': '威旭資訊有限公司', '薪資': '待遇面議', '網址': 'https://www.104.com.tw/job/70hci?jobsource=jolist_a_relevance', '所需技能': [''], '工作經歷': '不拘', '公司地址': '台北市中正區仁愛路二段2號7樓'}\n",
      "{'職缺名稱': '資訊類-大數據資料分析師', '公司資訊': '威剛科技股份有限公司', '薪資': '待遇面議', '網址': 'https://www.104.com.tw/job/74pjo?jobsource=jolist_a_relevance', '所需技能': [''], '工作經歷': '不拘', '公司地址': '新北市中和區連城路258號18樓'}\n",
      "{'職缺名稱': '【資訊專業】大數據工程師', '公司資訊': '亞太電信股份有限公司', '薪資': '待遇面議', '網址': 'https://www.104.com.tw/job/71dh1?jobsource=jolist_a_relevance', '所需技能': [''], '工作經歷': '3年以上', '公司地址': '台北市內湖區基湖路32號'}\n",
      "{'職缺名稱': '香港大數據分析實習生（須精通粵語）', '公司資訊': '大數據股份有限公司', '薪資': '時薪158元', '網址': 'https://www.104.com.tw/job/6py1j?jobsource=jolist_a_relevance', '所需技能': ['Excel', 'PowerPoint', 'Word', 'SAS', 'SPSS', ''], '工作經歷': '不拘', '公司地址': '台北市中山區民生東路二段145號5樓'}\n",
      "{'職缺名稱': '大數據工程師', '公司資訊': '艾斯移動股份有限公司', '薪資': '月薪60,000~85,000元', '網址': 'https://www.104.com.tw/job/6nmju?jobsource=jolist_a_relevance', '所需技能': ['Java', 'Python', ''], '工作經歷': '3年以上', '公司地址': '台北市大安區敦化南路2段76號5樓'}\n",
      "{'職缺名稱': '大數據分析師', '公司資訊': '集太科技有限公司', '薪資': '待遇面議', '網址': 'https://www.104.com.tw/job/6u86h?jobsource=jolist_a_relevance', '所需技能': [''], '工作經歷': '2年以上', '公司地址': '台北市信義區信義路4段450巷9號8樓之1'}\n",
      "{'職缺名稱': '大數據工程師[新竹]', '公司資訊': '思銳科技股份有限公司', '薪資': '月薪35,000~65,000元', '網址': 'https://www.104.com.tw/job/6zoxf?jobsource=jolist_a_relevance', '所需技能': ['C', 'C++', 'Java', 'Python', 'Scala', ''], '工作經歷': '2年以上', '公司地址': '新竹市科學園區科技五路2號4樓'}\n",
      "{'職缺名稱': 'AIOT工業物聯網大數據工程師(派駐深圳)', '公司資訊': 'GIS-KY(6456)業成集團_英特盛科技股份有限公司', '薪資': '待遇面議', '網址': 'https://www.104.com.tw/job/71x5u?jobsource=jolist_a_relevance', '所需技能': [''], '工作經歷': '不拘', '公司地址': '廣東省深圳市'}\n",
      "{'職缺名稱': '大數據工程師(POD00)', '公司資訊': 'PChome Online_網路家庭國際資訊(股)公司', '薪資': '待遇面議', '網址': 'https://www.104.com.tw/job/6a27l?jobsource=jolist_a_relevance', '所需技能': ['Java', 'Python', ''], '工作經歷': '1年以上', '公司地址': '台北市大安區敦化南路二段105號12樓'}\n",
      "{'職缺名稱': '[TCXY07]大數據平台工程師_Big data platform engineer', '公司資訊': '優聘資訊科技有限公司', '薪資': '月薪35,000~70,000元', '網址': 'https://www.104.com.tw/job/71vpf?jobsource=jolist_a_relevance', '所需技能': ['C++', 'Python', 'hadoop', ''], '工作經歷': '1年以上', '公司地址': '台中市西屯區府會園道179號 6F-2'}\n",
      "{'職缺名稱': '大數據工程師(Senior)', '公司資訊': '奕特資訊有限公司', '薪資': '待遇面議', '網址': 'https://www.104.com.tw/job/71w53?jobsource=jolist_a_relevance', '所需技能': ['Scala', 'MySQL', 'hadoop', 'Hive', ''], '工作經歷': '3年以上', '公司地址': '台北市內湖區瑞光路631號8樓'}\n",
      "{'職缺名稱': '企業輿情大數據分析師', '公司資訊': '影響力數據顧問股份有限公司', '薪資': '月薪30,000~45,000元', '網址': 'https://www.104.com.tw/job/6yaz0?jobsource=jolist_a_relevance', '所需技能': [''], '工作經歷': '1年以上', '公司地址': '台北市松山區敦化北路214號3樓'}\n",
      "{'職缺名稱': '大數據分析專員', '公司資訊': '瑄品股份有限公司', '薪資': '待遇面議', '網址': 'https://www.104.com.tw/job/6vxae?jobsource=jolist_a_relevance', '所需技能': [''], '工作經歷': '1年以上', '公司地址': '新北市新莊區'}\n",
      "{'職缺名稱': '【大數據】Hadoop系統工程師', '公司資訊': '中華系統整合股份有限公司', '薪資': '待遇面議', '網址': 'https://www.104.com.tw/job/71msm?jobsource=jolist_a_relevance', '所需技能': ['Linux', 'Java', 'Python', 'hadoop', 'AWS', 'TCP/IP', ''], '工作經歷': '3年以上', '公司地址': '台北市大安區'}\n",
      "{'職缺名稱': '（農場事業處）大數據系統工程師', '公司資訊': '英屬開曼群島商長穩智能科技股份有限公司台灣分公司', '薪資': '待遇面議', '網址': 'https://www.104.com.tw/job/6zx8e?jobsource=jolist_a_relevance', '所需技能': ['Java', 'Python', 'ANSI SQL', 'MS SQL', 'PL/SQL', 'PostgreSQL', ''], '工作經歷': '3年以上', '公司地址': '台北市內湖區瑞光路608號13樓'}\n",
      "{'職缺名稱': '(大數據)零售研究員(Python)', '公司資訊': '東方線上股份有限公司', '薪資': '月薪35,000~42,000元', '網址': 'https://www.104.com.tw/job/3o5cn?jobsource=jolist_a_relevance', '所需技能': ['Excel', 'SPSS', 'Python', ''], '工作經歷': '不拘', '公司地址': '台北市大安區信義路四段306號7樓'}\n",
      "{'職缺名稱': '03_大數據科學家', '公司資訊': '台灣之星電信股份有限公司', '薪資': '待遇面議', '網址': 'https://www.104.com.tw/job/5amyj?jobsource=jolist_a_relevance', '所需技能': [''], '工作經歷': '2年以上', '公司地址': '台北市內湖區堤頂大道二段239號'}\n",
      "{'職缺名稱': 'D4000 大數據平台工程師(Java)', '公司資訊': '富邦媒體科技股份有限公司(富邦momo)', '薪資': '月薪35,000元以上', '網址': 'https://www.104.com.tw/job/5atn7?jobsource=jolist_a_relevance', '所需技能': ['Java', 'Spring', 'PL/SQL', ''], '工作經歷': '1年以上', '公司地址': '台北市內湖區洲子街96號4樓'}\n",
      "{'職缺名稱': '大數據系統開發儲備幹部/主管 (上海&嘉善)', '公司資訊': '鎧勝控股_日冠金屬股份有限公司', '薪資': '待遇面議', '網址': 'https://www.104.com.tw/job/6z01o?jobsource=jolist_a_relevance', '所需技能': [''], '工作經歷': '5年以上', '公司地址': '上海市/嘉善縣'}\n",
      "{'職缺名稱': '「大數據研發」網路系統工程師', '公司資訊': '華聯生物科技股份有限公司', '薪資': '待遇面議', '網址': 'https://www.104.com.tw/job/5owsg?jobsource=jolist_a_relevance', '所需技能': ['PHP', 'MySQL', 'HTML', 'JavaScript', 'jQuery', ''], '工作經歷': '2年以上', '公司地址': '新竹市科學工業園區科技五路6號6樓'}\n",
      "{'職缺名稱': 'Java/Python/Go 大數據平台工程師', '公司資訊': '艾得基客行銷顧問股份有限公司', '薪資': '待遇面議', '網址': 'https://www.104.com.tw/job/6j2dn?jobsource=jolist_a_relevance', '所需技能': ['Linux', 'UML', 'Java', 'PHP', 'Python', 'MySQL', 'RDBMS', 'HTML', 'JavaScript', 'jQuery', 'HTTP', 'ssh', ''], '工作經歷': '1年以上', '公司地址': '台北市大安區敦化南路二段76號16樓'}\n",
      "{'職缺名稱': '大數據專案規劃工程師-台北(DF0)', '公司資訊': '物聯網股份有限公司', '薪資': '待遇面議', '網址': 'https://www.104.com.tw/job/7066r?jobsource=jolist_a_relevance', '所需技能': ['Excel', 'PowerPoint', 'Project', 'Word', ''], '工作經歷': '5年以上', '公司地址': '台北市大安區敦化南路二段97號26樓'}\n",
      "{'職缺名稱': '市調經理 / 大數據分析師', '公司資訊': '威聯網科技有限公司', '薪資': '月薪28,000元以上', '網址': 'https://www.104.com.tw/job/73cip?jobsource=jolist_a_relevance', '所需技能': ['Excel', 'PowerPoint', 'Word', '中文打字50~75', 'Adobe Photoshop', 'CorelDraw', 'Illustrator', ''], '工作經歷': '6年以上', '公司地址': '高雄市前鎮區復興四路2號B棟4F(A12)'}\n",
      "{'職缺名稱': '數據架構管理師(大數據處)', '公司資訊': '台灣大車隊股份有限公司', '薪資': '待遇面議', '網址': 'https://www.104.com.tw/job/73h4r?jobsource=jolist_a_relevance', '所需技能': [''], '工作經歷': '5年以上', '公司地址': '新北市三重區重新路五段609巷2號7樓之1'}\n",
      "{'職缺名稱': '「生醫大數據資料分析」研究助理', '公司資訊': '財團法人國家衛生研究院', '薪資': '月薪32,000元以上', '網址': 'https://www.104.com.tw/job/6zkvc?jobsource=jolist_a_relevance', '所需技能': [''], '工作經歷': '不拘', '公司地址': '苗栗縣竹南鎮頂埔里科研路35號'}\n",
      "{'職缺名稱': '大數據資料庫分析師', '公司資訊': '豪銳資訊有限公司', '薪資': '月薪35,000~50,000元', '網址': 'https://www.104.com.tw/job/72kkc?jobsource=jolist_a_relevance', '所需技能': ['C#', 'MS SQL', 'Tableau', ''], '工作經歷': '不拘', '公司地址': '台北市中正區南海路37號'}\n",
      "{'職缺名稱': '資訊工程師(大數據系統工程師)', '公司資訊': '力晶積成電子製造股份有限公司(力積電)', '薪資': '月薪37,000元以上', '網址': 'https://www.104.com.tw/job/6oz7y?jobsource=jolist_a_relevance', '所需技能': [''], '工作經歷': '不拘', '公司地址': '新竹市力行一路12號'}\n",
      "{'職缺名稱': '【資訊專業】大數據資料管理師', '公司資訊': '亞太電信股份有限公司', '薪資': '待遇面議', '網址': 'https://www.104.com.tw/job/6te4b?jobsource=jolist_a_relevance', '所需技能': ['Python', 'R', 'SPSS', ''], '工作經歷': '3年以上', '公司地址': '台北市內湖區基湖路32號'}\n",
      "{'職缺名稱': '【 2020軟體技術人才招募】大數據工程師', '公司資訊': '緯創軟體股份有限公司', '薪資': '待遇面議', '網址': 'https://www.104.com.tw/job/69zh1?jobsource=jolist_a_relevance', '所需技能': ['Java', 'ETL', 'MS SQL', ''], '工作經歷': '2年以上', '公司地址': '新北市汐止區新台五路一段93號32樓'}\n",
      "{'職缺名稱': '人工智慧及大數據工程師', '公司資訊': '髮拉儷皮膚科診所', '薪資': '月薪40,000~80,000元', '網址': 'https://www.104.com.tw/job/5qcze?jobsource=jolist_a_relevance', '所需技能': [''], '工作經歷': '不拘', '公司地址': '台北市信義區忠孝東路五段139號4樓'}\n",
      "{'職缺名稱': '[實習]大數據分析工程師(2021/2月起)', '公司資訊': '力成科技股份有限公司', '薪資': '月薪33,000~40,000元', '網址': 'https://www.104.com.tw/job/71qtx?jobsource=jolist_a_relevance', '所需技能': ['Python', 'R', ''], '工作經歷': '不拘', '公司地址': '新竹縣湖口鄉大同路10號'}\n",
      "{'職缺名稱': '資訊安全分析師(大數據平台Splunk操作 )', '公司資訊': '數聯資安股份有限公司', '薪資': '月薪40,000~60,000元', '網址': 'https://www.104.com.tw/job/6iubm?jobsource=jolist_a_relevance', '所需技能': [''], '工作經歷': '不拘', '公司地址': '台北市內湖區瑞光路218號2樓'}\n",
      "{'職缺名稱': '數據分析師', '公司資訊': '大數據股份有限公司', '薪資': '月薪35,000~50,000元', '網址': 'https://www.104.com.tw/job/5944x?jobsource=jolist_b_relevance', '所需技能': [''], '工作經歷': '不拘', '公司地址': '台北市中山區'}\n",
      "{'職缺名稱': '產品業務', '公司資訊': '大數據股份有限公司', '薪資': '待遇面議', '網址': 'https://www.104.com.tw/job/6agkb?jobsource=jolist_b_relevance', '所需技能': ['Excel', 'PowerPoint', 'Word', ''], '工作經歷': '2年以上', '公司地址': '台北市中山區民生東路二段145號5樓'}\n",
      "{'職缺名稱': '資訊安全分析師(大數據平台Splunk操作 )', '公司資訊': '數聯資安股份有限公司', '薪資': '月薪40,000~60,000元', '網址': 'https://www.104.com.tw/job/6iubm?jobsource=jolist_b_relevance', '所需技能': [''], '工作經歷': '不拘', '公司地址': '台北市內湖區瑞光路218號2樓'}\n",
      "{'職缺名稱': '集團總部供應鏈大數據管理專員(全球第二大IT通路集團)', '公司資訊': '聯強國際股份有限公司', '薪資': '待遇面議', '網址': 'https://www.104.com.tw/job/2tv5q?jobsource=jolist_b_relevance', '所需技能': [''], '工作經歷': '2年以上', '公司地址': '台北市中山區台北總部(台北市中山區民生東路三段75號)'}\n",
      "{'職缺名稱': '大數據平台工程師(亞太地區領導專業配銷商)-T7', '公司資訊': '群環科技股份有限公司', '薪資': '月薪32,000~70,000元', '網址': 'https://www.104.com.tw/job/38d3v?jobsource=jolist_b_relevance', '所需技能': [''], '工作經歷': '1年以上', '公司地址': '台北市大同區重慶北路2段243號8樓'}\n",
      "{'職缺名稱': '大數據與AI人工智慧/專案工程師/PM', '公司資訊': '昱冠資訊股份有限公司', '薪資': '月薪26,000~82,000元', '網址': 'https://www.104.com.tw/job/5nx3b?jobsource=jolist_b_relevance', '所需技能': [''], '工作經歷': '不拘', '公司地址': '新竹市'}\n",
      "{'職缺名稱': '專員(大數據)', '公司資訊': '東森購物_電視購物_東森得易購股份有限公司', '薪資': '月薪28,000~35,000元', '網址': 'https://www.104.com.tw/job/6mq2z?jobsource=jolist_b_relevance', '所需技能': [''], '工作經歷': '不拘', '公司地址': '新北市中和區景平路258號1樓(恕不接受郵寄)'}\n",
      "{'職缺名稱': '大數據工程師', '公司資訊': '博客來數位科技股份有限公司', '薪資': '待遇面議', '網址': 'https://www.104.com.tw/job/74dad?jobsource=jolist_b_relevance', '所需技能': ['Java', 'Python', 'MySQL', 'hadoop', ''], '工作經歷': '3年以上', '公司地址': '台北市南港區八德路四段768巷1弄18號B1之1(臨近松山車站、捷運松山站)'}\n",
      "{'職缺名稱': '演算法資料／大數據 工程師！加入台中矽谷', '公司資訊': '皮克網路有限公司', '薪資': '月薪30,000~52,000元', '網址': 'https://www.104.com.tw/job/4nvhg?jobsource=jolist_b_relevance', '所需技能': [''], '工作經歷': '不拘', '公司地址': '台中市豐原區'}\n",
      "{'職缺名稱': '產品良率工程/製程整合 數據分析 產品經理 Product Marketing', '公司資訊': '昱峰智能大數據科技股份有限公司', '薪資': '待遇面議', '網址': 'https://www.104.com.tw/job/6ta63?jobsource=jolist_b_relevance', '所需技能': [''], '工作經歷': '不拘', '公司地址': '台北市信義區永吉路168號12樓之1'}\n",
      "{'職缺名稱': '商業開發合作顧問', '公司資訊': '昱峰智能大數據科技股份有限公司', '薪資': '論件計酬100,000元以上', '網址': 'https://www.104.com.tw/job/6wtgm?jobsource=jolist_b_relevance', '所需技能': [''], '工作經歷': '不拘', '公司地址': '台北市信義區永吉路168號12樓之1'}\n",
      "{'職缺名稱': 'Senior Python Data Backend Engineer(大數據)', '公司資訊': '伊諾科技有限公司', '薪資': '待遇面議', '網址': 'https://www.104.com.tw/job/6qwx5?jobsource=jolist_b_relevance', '所需技能': ['Linux', 'Python', ''], '工作經歷': '4年以上', '公司地址': '台北市內湖區陽光街300號9 樓'}\n",
      "{'職缺名稱': '前端設計工程師', '公司資訊': '昱峰智能大數據科技股份有限公司', '薪資': '月薪35,000~60,000元', '網址': 'https://www.104.com.tw/job/5x5ui?jobsource=jolist_b_relevance', '所需技能': ['DHTML', 'HTML', 'JavaScript', 'XHTML', 'jQuery', 'Adobe Photoshop', 'Illustrator', ''], '工作經歷': '2年以上', '公司地址': '台北市信義區永吉路168號12樓之1'}\n",
      "{'職缺名稱': 'T109001 大數據處理工程師', '公司資訊': '臺醫光電科技股份有限公司', '薪資': '月薪26,000~50,000元', '網址': 'https://www.104.com.tw/job/70s5v?jobsource=jolist_b_relevance', '所需技能': [''], '工作經歷': '不拘', '公司地址': '新竹縣竹北市生醫路二段6之1號4樓之1(新竹生醫園區)'}\n",
      "{'職缺名稱': 'PCB製程良率工程師 產品經理 Product Marketing', '公司資訊': '昱峰智能大數據科技股份有限公司', '薪資': '待遇面議', '網址': 'https://www.104.com.tw/job/6vkkm?jobsource=jolist_b_relevance', '所需技能': [''], '工作經歷': '不拘', '公司地址': '台北市信義區永吉路168號12樓之1'}\n",
      "{'職缺名稱': 'RD全端工程師', '公司資訊': '昱峰智能大數據科技股份有限公司', '薪資': '待遇面議', '網址': 'https://www.104.com.tw/job/62za4?jobsource=jolist_b_relevance', '所需技能': ['Linux', 'SDLC', 'Python', 'ANSI SQL', 'RDBMS', 'DHTML', 'HTML', 'JavaScript', 'jQuery', ''], '工作經歷': '不拘', '公司地址': '台北市信義區永吉路168號12樓之1'}\n",
      "{'職缺名稱': '大數據稽核諮詢顧問', '公司資訊': '勤業眾信聯合會計師事務所', '薪資': '待遇面議', '網址': 'https://www.104.com.tw/job/550g9?jobsource=jolist_b_relevance', '所需技能': ['Excel', 'Outlook', 'PowerPoint', 'Word', ''], '工作經歷': '2年以上', '公司地址': '台北市信義區松仁路100號20樓'}\n",
      "{'職缺名稱': '【大數據分析工程師】分析萬事萬物！加入台中矽谷', '公司資訊': '皮克網路有限公司', '薪資': '月薪30,000~52,000元', '網址': 'https://www.104.com.tw/job/5a5et?jobsource=jolist_b_relevance', '所需技能': [''], '工作經歷': '不拘', '公司地址': '台中市豐原區'}\n",
      "{'職缺名稱': '資訊專案人員(大數據整理)', '公司資訊': '拓凱實業股份有限公司', '薪資': '月薪30,000~45,000元', '網址': 'https://www.104.com.tw/job/72ykf?jobsource=jolist_b_relevance', '所需技能': [''], '工作經歷': '不拘', '公司地址': '台中市南屯區工業區 20 路 18 號'}\n",
      "{'職缺名稱': 'SEO / SEM 大數據行銷儲備經理', '公司資訊': '臺灣特力智慧科技有限公司', '薪資': '待遇面議', '網址': 'https://www.104.com.tw/job/73hae?jobsource=jolist_b_relevance', '所需技能': [''], '工作經歷': '不拘', '公司地址': '台北市信義區松隆路102號17樓之1'}\n",
      "{'職缺名稱': '大數據分析工程師（Big Data Analysis engineer）', '公司資訊': '安智聯科技有限公司', '薪資': '月薪50,000元以上', '網址': 'https://www.104.com.tw/job/6xrlh?jobsource=jolist_a_relevance', '所需技能': ['Python', 'LabVIEW', 'JDBC', 'MS SQL', 'MySQL', 'Oracle', 'PostgreSQL', 'hadoop', 'AWS', 'Tableau', 'Power BI\\u200b', 'Hive', 'SAN/NAS', 'Teradata', 'TIBCO', ''], '工作經歷': '3年以上', '公司地址': '桃園市桃園區成功路三段1號 (虎頭山創新園區D棟)'}\n",
      "{'職缺名稱': 'PCB製程良率工程師 產品經理 Product Marketing', '公司資訊': '昱峰智能大數據科技股份有限公司', '薪資': '待遇面議', '網址': 'https://www.104.com.tw/job/6vkkm?jobsource=jolist_a_relevance', '所需技能': [''], '工作經歷': '不拘', '公司地址': '台北市信義區永吉路168號12樓之1'}\n",
      "{'職缺名稱': 'RD全端工程師', '公司資訊': '昱峰智能大數據科技股份有限公司', '薪資': '待遇面議', '網址': 'https://www.104.com.tw/job/62za4?jobsource=jolist_a_relevance', '所需技能': ['Linux', 'SDLC', 'Python', 'ANSI SQL', 'RDBMS', 'DHTML', 'HTML', 'JavaScript', 'jQuery', ''], '工作經歷': '不拘', '公司地址': '台北市信義區永吉路168號12樓之1'}\n",
      "{'職缺名稱': '資訊專案人員(大數據整理)', '公司資訊': '拓凱實業股份有限公司', '薪資': '月薪30,000~45,000元', '網址': 'https://www.104.com.tw/job/72ykf?jobsource=jolist_a_relevance', '所需技能': [''], '工作經歷': '不拘', '公司地址': '台中市南屯區工業區 20 路 18 號'}\n",
      "{'職缺名稱': 'SEO / SEM 大數據行銷儲備經理', '公司資訊': '臺灣特力智慧科技有限公司', '薪資': '待遇面議', '網址': 'https://www.104.com.tw/job/73hae?jobsource=jolist_a_relevance', '所需技能': [''], '工作經歷': '不拘', '公司地址': '台北市信義區松隆路102號17樓之1'}\n",
      "{'職缺名稱': '大數據應用產品開發管理師', '公司資訊': '愛酷智能科技股份有限公司', '薪資': '待遇面議', '網址': 'https://www.104.com.tw/job/742dh?jobsource=jolist_a_relevance', '所需技能': [''], '工作經歷': '1年以上', '公司地址': '台北市松山區敦化南路一段2號5樓'}\n",
      "{'職缺名稱': '【大數據】資料應用開發工程師', '公司資訊': '中華系統整合股份有限公司', '薪資': '待遇面議', '網址': 'https://www.104.com.tw/job/71mss?jobsource=jolist_a_relevance', '所需技能': ['Linux', 'C', 'Python', 'TCP/IP', ''], '工作經歷': '3年以上', '公司地址': '台北市大安區'}\n",
      "{'職缺名稱': '大數據系統開發工程師 (福建)', '公司資訊': '煒晶科技股份有限公司', '薪資': '月薪40,000~100,000元', '網址': 'https://www.104.com.tw/job/71nuu?jobsource=jolist_a_relevance', '所需技能': ['Git', 'ASP.NET', 'C#', 'Python', 'PL/SQL', ''], '工作經歷': '不拘', '公司地址': '福建省'}\n",
      "{'職缺名稱': '資料科學家(大數據處)', '公司資訊': '台灣大車隊股份有限公司', '薪資': '待遇面議', '網址': 'https://www.104.com.tw/job/6ztvz?jobsource=jolist_a_relevance', '所需技能': ['MS SQL', 'Excel', ''], '工作經歷': '2年以上', '公司地址': '新北市三重區重新路五段609巷2號7樓之1'}\n",
      "{'職缺名稱': '10R0-大數據中心 生物統計師(biostatistician)', '公司資訊': '中國醫藥大學附設醫院', '薪資': '月薪34,000~35,000元', '網址': 'https://www.104.com.tw/job/4lwfh?jobsource=jolist_a_relevance', '所需技能': ['SAS', 'SPSS', ''], '工作經歷': '不拘', '公司地址': '台中市北區育德路2號'}\n",
      "{'職缺名稱': '【大數據】資料庫工程師', '公司資訊': '中華系統整合股份有限公司', '薪資': '待遇面議', '網址': 'https://www.104.com.tw/job/71mow?jobsource=jolist_a_relevance', '所需技能': ['Linux', 'Database Administrator', 'Database Management', 'MySQL', 'Oracle', 'Vmware', 'JavaScript', 'TCP/IP', ''], '工作經歷': '3年以上', '公司地址': '台北市大安區'}\n",
      "{'職缺名稱': '智慧交通運輸 交通分析師/時制重整/交通大數據', '公司資訊': '瑄品股份有限公司', '薪資': '月薪40,000~90,000元', '網址': 'https://www.104.com.tw/job/6uksl?jobsource=jolist_a_relevance', '所需技能': [''], '工作經歷': '3年以上', '公司地址': '台北市信義區信義路五段5號7樓7F02室'}\n",
      "{'職缺名稱': '資訊工程師(大數據程式開發)', '公司資訊': '力晶積成電子製造股份有限公司(力積電)', '薪資': '月薪37,000元以上', '網址': 'https://www.104.com.tw/job/6z6dq?jobsource=jolist_a_relevance', '所需技能': [''], '工作經歷': '不拘', '公司地址': '新竹市力行一路12號'}\n",
      "{'職缺名稱': '系統工程專案工程師', '公司資訊': '昱峰智能大數據科技股份有限公司', '薪資': '待遇面議', '網址': 'https://www.104.com.tw/job/6vsus?jobsource=jolist_a_relevance', '所需技能': ['Linux', 'Shell', 'Vmware', 'Apache SOAP', 'DHCP', 'DNS', 'Firewall', 'FTP', 'HTTP', 'LAN', 'Load Balancing', 'SAN', 'ssh', 'TCP/IP', 'VPN', 'WAN', ''], '工作經歷': '不拘', '公司地址': '台北市信義區永吉路168號12樓之1'}\n",
      "{'職缺名稱': '大數據開發工程師', '公司資訊': '智谷系統有限公司', '薪資': '月薪200,000~300,000元', '網址': 'https://www.104.com.tw/job/747ym?jobsource=jolist_a_relevance', '所需技能': ['Linux', 'Python', 'hadoop', ''], '工作經歷': '不拘', '公司地址': '菲律賓'}\n",
      "{'職缺名稱': '大數據發展事業處-(資深)數據分析師', '公司資訊': '台灣大車隊股份有限公司', '薪資': '待遇面議', '網址': 'https://www.104.com.tw/job/6v2kz?jobsource=jolist_a_relevance', '所需技能': ['MS SQL', 'Excel', ''], '工作經歷': '3年以上', '公司地址': '新北市三重區重新路五段609巷2號7樓之1'}\n",
      "{'職缺名稱': '資料倉儲工程師 (台北) (資料庫/大數據/巨量資料/資料倉儲)', '公司資訊': '歐立威科技股份有限公司', '薪資': '待遇面議', '網址': 'https://www.104.com.tw/job/6r2nr?jobsource=jolist_a_relevance', '所需技能': ['Linux', ''], '工作經歷': '3年以上', '公司地址': '台北市大同區鄭州路87號10樓'}\n",
      "{'職缺名稱': '數據ETL工程師(大數據處)', '公司資訊': '台灣大車隊股份有限公司', '薪資': '月薪30,000~50,000元', '網址': 'https://www.104.com.tw/job/6ztw9?jobsource=jolist_a_relevance', '所需技能': ['Java', 'Python', 'MS SQL', 'Tableau', ''], '工作經歷': '2年以上', '公司地址': '新北市三重區重新路五段609巷2號7樓之1'}\n",
      "{'職缺名稱': '大陸地區-大數據專案特助', '公司資訊': '脫普聚益股份有限公司', '薪資': '待遇面議', '網址': 'https://www.104.com.tw/job/5r7ve?jobsource=jolist_a_relevance', '所需技能': [''], '工作經歷': '5年以上', '公司地址': '上海市'}\n",
      "{'職缺名稱': '資料倉儲工程師 (新竹) (資料庫/大數據/巨量資料/資料倉儲)', '公司資訊': '歐立威科技股份有限公司', '薪資': '待遇面議', '網址': 'https://www.104.com.tw/job/6yxzi?jobsource=jolist_a_relevance', '所需技能': ['Linux', ''], '工作經歷': '不拘', '公司地址': '新竹市'}\n"
     ]
    }
   ],
   "source": [
    "import requests\n",
    "from bs4 import BeautifulSoup\n",
    "import os\n",
    "import pandas as pd\n",
    "import json\n",
    "import csv\n",
    "\n",
    "\n",
    "\n",
    "headers = {\n",
    "    'User-Agent': 'Mozilla/5.0 (Windows NT 10.0; Win64; x64) AppleWebKit/537.36 (KHTML, like Gecko) Chrome/87.0.4280.66 Safari/537.36',\n",
    "    'Referer': 'https://www.104.com.tw/jobs/main/'\n",
    "}\n",
    "url = 'https://www.104.com.tw/jobs/search/list'\n",
    "\n",
    "if not os.path.exists('./hw104'):\n",
    "    os.mkdir('./hw104')\n",
    "\n",
    "params = {\n",
    "    'ro': '0',\n",
    "    'keyword': '大數據',\n",
    "    'expansionType': 'area,spec,com,job,wf,wktm',\n",
    "    'order': '1',\n",
    "    'asc': '0',\n",
    "    'page': 1,\n",
    "    'mode': 's'\n",
    "}  \n",
    "# p_jobname = []\n",
    "# p_custname = []\n",
    "# p_salary = []\n",
    "# p_url = []\n",
    "# p_skill = []\n",
    "\n",
    "columns_name = ['職缺名稱', '公司資訊', '薪資', '網址', '所需技能', '工作經歷', '公司地址']\n",
    "fn='TEB103-13-黃祺倫.csv'\n",
    "with open(fn,'w',newline='',) as csvFile:                                   \n",
    "    dictWriter = csv.DictWriter(csvFile,fieldnames=columns_name)            \n",
    "    dictWriter.writeheader()\n",
    "all_job_datas=[]\n",
    "\n",
    "for i in range(1,5):\n",
    "    params['page'] = i\n",
    "    req = requests.get(url, headers=headers, params=params )\n",
    "#     soup = BeautifulSoup(req.text, 'html.parser')\n",
    "    jsondata = json.loads(req.text)\n",
    "    joblist = jsondata['data']['list']\n",
    "    for job in joblist:\n",
    "        job_link = 'https:' + job['link']['job']\n",
    "        job_url = 'https://www.104.com.tw/job/ajax/content/' + job_link.split('/')[-1].split('?')[0]\n",
    "        headers['Referer'] = job_link\n",
    "        new_req = requests.get(job_url, headers = headers)\n",
    "#         obj_soup = BeautifulSoup(new_req.text, 'html.parser')\n",
    "        json_data = json.loads(new_req.text)\n",
    "        job_name = json_data['data']['header']['jobName']\n",
    "        cust_name = json_data['data']['header']['custName']\n",
    "        salary = json_data['data']['jobDetail']['salary']\n",
    "        specialty = json_data['data']['condition']['specialty']\n",
    "        address = json_data['data']['jobDetail']['addressRegion'] + json_data['data']['jobDetail']['addressDetail']\n",
    "        workexp = json_data['data']['condition']['workExp']\n",
    "#         p_jobname.append(job_name)\n",
    "#         p_custname.append(cust_name)\n",
    "#         p_salary.append(salary)\n",
    "#         p_url.append(job_link)\n",
    "        skill = []\n",
    "        try:\n",
    "            for i in range(20):\n",
    "                skill.append(specialty[i]['description'])\n",
    "        except:\n",
    "             skill.append('') \n",
    "#         p_skill.append(skill)\n",
    "        values = [p_jobname, p_custname, p_salary, p_url, p_skill]\n",
    "        job_data = {'職缺名稱':job_name, '公司資訊':cust_name, '薪資':salary, '網址':job_link, '所需技能':skill, '工作經歷':workexp, '公司地址':address}\n",
    "        all_job_datas.append(job_data)\n",
    "with open(fn,'w',newline='') as csvFile:               \n",
    "    dictWriter = csv.DictWriter(csvFile,fieldnames=columns_name)            \n",
    "    dictWriter.writeheader()       \n",
    "    for data in all_job_datas:\n",
    "        dictWriter.writerow(data)\n",
    "    print(data)"
   ]
  },
  {
   "cell_type": "raw",
   "metadata": {},
   "source": [
    "fn='TEB103-黃祺倫.csv'\n",
    "values = [job_name, cust_name, salary, job_link, skill]\n",
    "columns_name = ['職缺名稱', '公司資訊', '薪資', '網址', '所需技能', '工作經歷', '公司地址']\n",
    "df = pd.DataFrame()\n",
    "df = pd.DataFrame(data=values, columns = columns_name)\n",
    "print(df)"
   ]
  },
  {
   "cell_type": "code",
   "execution_count": 51,
   "metadata": {},
   "outputs": [
    {
     "name": "stdout",
     "output_type": "stream",
     "text": [
      "專案規劃執行╱範圍管理\n",
      "專案溝通╱整合管理\n",
      "提案與簡報技巧\n",
      "行銷策略擬定\n",
      "市場調查資料分析與報告撰寫\n",
      "調查樣本統計分析\n",
      "客戶情報蒐集\n",
      "\n",
      "\n",
      "\n",
      "\n",
      "\n",
      "\n"
     ]
    }
   ],
   "source": [
    "        w = json_data['data']['condition']['skill']\n",
    "        for i in range(10):\n",
    "            try:\n",
    "                qwer = w[i]['description']\n",
    "                print(qwer)\n",
    "            except:\n",
    "                print('\\n')"
   ]
  },
  {
   "cell_type": "code",
   "execution_count": 6,
   "metadata": {},
   "outputs": [
    {
     "data": {
      "text/plain": [
       "'Python'"
      ]
     },
     "execution_count": 6,
     "metadata": {},
     "output_type": "execute_result"
    }
   ],
   "source": [
    "json_data['data']['condition']['specialty'][0]['description']"
   ]
  },
  {
   "cell_type": "code",
   "execution_count": 2,
   "metadata": {},
   "outputs": [
    {
     "data": {
      "text/plain": [
       "['Python', 'Excel', 'Outlook', 'PowerPoint', 'Word', '']"
      ]
     },
     "execution_count": 2,
     "metadata": {},
     "output_type": "execute_result"
    }
   ],
   "source": [
    "skill"
   ]
  },
  {
   "cell_type": "code",
   "execution_count": null,
   "metadata": {},
   "outputs": [],
   "source": []
  }
 ],
 "metadata": {
  "kernelspec": {
   "display_name": "Python 3",
   "language": "python",
   "name": "python3"
  },
  "language_info": {
   "codemirror_mode": {
    "name": "ipython",
    "version": 3
   },
   "file_extension": ".py",
   "mimetype": "text/x-python",
   "name": "python",
   "nbconvert_exporter": "python",
   "pygments_lexer": "ipython3",
   "version": "3.8.5"
  }
 },
 "nbformat": 4,
 "nbformat_minor": 4
}
